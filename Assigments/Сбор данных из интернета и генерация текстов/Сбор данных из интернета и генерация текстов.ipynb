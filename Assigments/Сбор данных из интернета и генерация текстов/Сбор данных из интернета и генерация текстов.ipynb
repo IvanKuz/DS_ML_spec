{
 "cells": [
  {
   "cell_type": "markdown",
   "metadata": {},
   "source": [
    "# Домашнее задание 3\n",
    "\n",
    "## Сбор данных из интернета и генерация текстов\n",
    "\n",
    "В этом домашнем задании вам предстоит: \n",
    "1. выбрать свой источник структурированных данных (прогноз погоды, курс акций, счет спортивных мероприятий, или что-нибудь еще) \n",
    "2. научиться извлекать данные из с выбранной веб-страницы\n",
    "3. научиться генерировать текст по шаблонам"
   ]
  },
  {
   "cell_type": "markdown",
   "metadata": {},
   "source": [
    "## Часть 1\n",
    "\n",
    "Выберете источник данных, который вам симпатичен. По умолчанию, предлагаем использовать данные о погоде в Москве: \n",
    "https://www.gismeteo.ru/weather-moscow-4368/. Извлеките из html-кода страницы температуру сегодня, уровень осадков и скорость ветра."
   ]
  },
  {
   "cell_type": "markdown",
   "metadata": {},
   "source": [
    "## Часть 2\n",
    "Запрограммируйте шаблон, описывающие температуру, уровень осадков и скорость ветра сегодня. Например,\n",
    "\"Температура сегодня составляет X градусов\", где Х – излеченное выше число. Сгенерируйте таким образом описание погоды сегодня. Учтите, величина X влияет на грамматическое число, использованное в единицах измерения (\"двадцать градусов\", но \"двадцать один градус\"). Используйте бибилиотеку utg или дополнительные функции pymorphy2"
   ]
  },
  {
   "cell_type": "code",
   "execution_count": 1,
   "metadata": {
    "collapsed": true
   },
   "outputs": [],
   "source": [
    "import re\n",
    "from nltk import tokenize\n",
    "from nltk.corpus import stopwords\n",
    "from pymystem3 import Mystem\n"
   ]
  },
  {
   "cell_type": "code",
   "execution_count": 2,
   "metadata": {
    "collapsed": true
   },
   "outputs": [],
   "source": [
    "import pandas as pd\n",
    "import urllib.request\n",
    "\n",
    "from scrapy.selector import Selector\n",
    "from scrapy.http import HtmlResponse\n",
    "from tqdm import tqdm\n"
   ]
  },
  {
   "cell_type": "code",
   "execution_count": 3,
   "metadata": {
    "collapsed": true
   },
   "outputs": [],
   "source": [
    "url = 'https://www.gismeteo.ru/weather-moscow-4368/'\n",
    "req = urllib.request.Request(url, headers={'User-Agent': \"Magic Browser\"})\n",
    "html = urllib.request.urlopen(url)\n",
    "html = html.read()"
   ]
  },
  {
   "cell_type": "markdown",
   "metadata": {},
   "source": [
    "скачаем температуру"
   ]
  },
  {
   "cell_type": "code",
   "execution_count": 493,
   "metadata": {},
   "outputs": [
    {
     "name": "stdout",
     "output_type": "stream",
     "text": [
      "+1\n"
     ]
    }
   ],
   "source": [
    "tempr = Selector(text = html).xpath('/html/body/section/div/div/div[1]/div[3]/div[1]/div[1]/div/div/div[1]/div[3]/div/div/div/div[1]/text()').extract()[0]\n",
    "print(tempr)"
   ]
  },
  {
   "cell_type": "markdown",
   "metadata": {},
   "source": [
    "скачаем атмосферное давление"
   ]
  },
  {
   "cell_type": "code",
   "execution_count": 350,
   "metadata": {},
   "outputs": [
    {
     "name": "stdout",
     "output_type": "stream",
     "text": [
      "747\n"
     ]
    }
   ],
   "source": [
    "pres = Selector(text = html).xpath('/html/body/section/div/div/div[1]/div[3]/div[9]/div/div[2]/div[2]/div[2]/div/div/div/div[6]/text()').extract()[0]\n",
    "print(pres)"
   ]
  },
  {
   "cell_type": "markdown",
   "metadata": {},
   "source": [
    "скачаем скорость и направление ветра"
   ]
  },
  {
   "cell_type": "code",
   "execution_count": 216,
   "metadata": {},
   "outputs": [
    {
     "name": "stdout",
     "output_type": "stream",
     "text": [
      "6\n"
     ]
    }
   ],
   "source": [
    "wind_speed = Selector(text = html).xpath('/html/body/section/div/div/div[1]/div[3]/div[7]/div/div[2]/div[2]/div[2]/div[7]/div/div[1]/span/text()').extract()[0]\n",
    "print(wind_speed)"
   ]
  },
  {
   "cell_type": "code",
   "execution_count": 330,
   "metadata": {},
   "outputs": [
    {
     "name": "stdout",
     "output_type": "stream",
     "text": [
      "ЮВ\n"
     ]
    }
   ],
   "source": [
    "direction_wind = Selector(text = html).xpath('/html/body/section/div/div/div[1]/div[3]/div[7]/div/div[2]/div[2]/div[2]/div[6]/div/div[3]/text()').extract()[0]\n",
    "direction_wind = ' '.join(direction_wind.split())\n",
    "print(direction_wind)"
   ]
  },
  {
   "cell_type": "markdown",
   "metadata": {},
   "source": [
    "скачаем влажность воздуха"
   ]
  },
  {
   "cell_type": "code",
   "execution_count": 376,
   "metadata": {},
   "outputs": [
    {
     "name": "stdout",
     "output_type": "stream",
     "text": [
      "90\n"
     ]
    }
   ],
   "source": [
    "humidity =  Selector(text = html).xpath('/html/body/section/div/div/div[1]/div[3]/div[10]/div/div[2]/div[2]/div[2]/div[4]/div/text()').extract()[0]\n",
    "print(humidity)"
   ]
  },
  {
   "cell_type": "markdown",
   "metadata": {},
   "source": [
    "сделаем шаблоны погоды с помощью utg и pymorphy2"
   ]
  },
  {
   "cell_type": "code",
   "execution_count": 279,
   "metadata": {
    "collapsed": true
   },
   "outputs": [],
   "source": [
    "from utg import relations as r\n",
    "from utg import logic\n",
    "from utg import data\n",
    "from utg import dictionary\n",
    "from utg import words\n",
    "from utg import templates\n",
    "from utg import constructors\n",
    "import pymorphy2\n",
    "morph = pymorphy2.MorphAnalyzer()"
   ]
  },
  {
   "cell_type": "code",
   "execution_count": 494,
   "metadata": {
    "collapsed": true
   },
   "outputs": [],
   "source": [
    "def generate_forms(word):\n",
    "    p = morph.parse(word)[0]\n",
    "    res = []\n",
    "    lexems = p.lexeme\n",
    "    if 'NOUN' in p.tag:\n",
    "        for i in range(len(lexems)):\n",
    "            res.append(lexems[i][4][0][1])\n",
    "        #print(res)\n",
    "        if 'femn' in p.tag:\n",
    "            res1 = res[:5]\n",
    "            res1.append(res[6])\n",
    "            res1.extend(res[7:])\n",
    "            res1.extend(res1[6:])\n",
    "            return(res1)\n",
    "        else:\n",
    "            res.extend(res[6:])\n",
    "            return(res)\n",
    "    if 'VERB' in p.tag or 'INFN' in p.tag:\n",
    "        for i in [0,1,3,2,4]:\n",
    "            res.append(lexems[i][4][0][1])\n",
    "        return(res)\n",
    "    if 'ADJF' in p.tag:\n",
    "        for i in range(18):\n",
    "            res.append(lexems[i][4][0][1])\n",
    "        return(res)"
   ]
  },
  {
   "cell_type": "code",
   "execution_count": 495,
   "metadata": {
    "collapsed": true
   },
   "outputs": [],
   "source": [
    "noun_word = words.Word(type=r.WORD_TYPE.NOUN,\n",
    "                        forms=generate_forms('градус'),\n",
    "                        properties=words.Properties(r.ANIMALITY.ANIMATE, r.GENDER.MASCULINE))\n",
    "test_dictionary = dictionary.Dictionary(words=[noun_word])"
   ]
  },
  {
   "cell_type": "code",
   "execution_count": 496,
   "metadata": {
    "collapsed": true
   },
   "outputs": [],
   "source": [
    "template = templates.Template()"
   ]
  },
  {
   "cell_type": "code",
   "execution_count": 497,
   "metadata": {
    "collapsed": true
   },
   "outputs": [],
   "source": [
    "\n",
    "temp = words.WordForm(words.Word(type=r.WORD_TYPE.NOUN,\n",
    "                                forms=generate_forms('температура'),\n",
    "                                 properties=words.Properties(r.ANIMALITY.ANIMATE, r.GENDER.FEMININE)))\n",
    "vozd = words.WordForm(words.Word(type=r.WORD_TYPE.NOUN,\n",
    "                                 forms=generate_forms('воздух')[:18] ,\n",
    "                                 properties=words.Properties(r.ANIMALITY.INANIMATE, r.GENDER.MASCULINE)))"
   ]
  },
  {
   "cell_type": "code",
   "execution_count": 498,
   "metadata": {
    "collapsed": true
   },
   "outputs": [],
   "source": [
    "template.parse(u'[temp] [vozd|рд] сегодня + [coins] [градус|coins|вн].', externals=( 'temp', 'vozd', 'coins'))\n"
   ]
  },
  {
   "cell_type": "code",
   "execution_count": 499,
   "metadata": {},
   "outputs": [],
   "source": [
    "result = template.substitute(externals={'temp': temp,\n",
    "                                        'vozd' : vozd,\n",
    "                                        'coins': constructors.construct_integer(int(tempr))},\n",
    "                             dictionary=test_dictionary)"
   ]
  },
  {
   "cell_type": "code",
   "execution_count": 500,
   "metadata": {},
   "outputs": [
    {
     "data": {
      "text/plain": [
       "'температура воздуха сегодня + 1 градус.'"
      ]
     },
     "execution_count": 500,
     "metadata": {},
     "output_type": "execute_result"
    }
   ],
   "source": [
    "result"
   ]
  },
  {
   "cell_type": "code",
   "execution_count": 483,
   "metadata": {},
   "outputs": [
    {
     "data": {
      "text/plain": [
       "'юго-восточный'"
      ]
     },
     "execution_count": 483,
     "metadata": {},
     "output_type": "execute_result"
    }
   ],
   "source": [
    "def veter(direction_wind):\n",
    "    if direction_wind == 'ЮВ':\n",
    "        return 'юго-восточный'\n",
    "    if direction_wind == 'ЮЗ':\n",
    "        return 'юго-западный'\n",
    "    if direction_wind == 'СВ':\n",
    "        return 'северо-восточный'\n",
    "    if direction_wind == 'СЗ':\n",
    "        return 'северо-западный'\n",
    "    if direction_wind == 'Ю':\n",
    "        return 'южный'\n",
    "    if direction_wind == 'З':\n",
    "        return 'западный'\n",
    "    if direction_wind == 'С':\n",
    "        return 'северный'\n",
    "    if direction_wind == 'В':\n",
    "        return 'восточный'\n",
    "veter(direction_wind)"
   ]
  },
  {
   "cell_type": "code",
   "execution_count": 484,
   "metadata": {},
   "outputs": [
    {
     "name": "stdout",
     "output_type": "stream",
     "text": [
      "Ветер юго-восточный , 6 метров в секунду .\n"
     ]
    }
   ],
   "source": [
    "metr = morph.parse('метр')[0] \n",
    "sec = morph.parse('секунда')[0] \n",
    "print('Ветер', veter(direction_wind),',', int(wind_speed), metr.make_agree_with_number(int(wind_speed)).word ,'в', sec.inflect({'accs'}).word ,'.') "
   ]
  },
  {
   "cell_type": "code",
   "execution_count": 491,
   "metadata": {},
   "outputs": [
    {
     "name": "stdout",
     "output_type": "stream",
     "text": [
      "атмосферное давление 747 миллиметров ртутного столба .\n"
     ]
    }
   ],
   "source": [
    "atm = morph.parse('атмосферное')[0] \n",
    "pr = morph.parse('давление')[0] \n",
    "mm = morph.parse('миллиметр')[0] \n",
    "rt = morph.parse('ртутный')[0] \n",
    "st = morph.parse('столб')[0] \n",
    "print(atm.inflect({'nomn'}).word, pr.inflect({'nomn'}).word,int(pres), mm.make_agree_with_number(int(pres)).word, rt.inflect({'gent'}).word, st.inflect({'gent'}).word, '.' )"
   ]
  },
  {
   "cell_type": "code",
   "execution_count": 486,
   "metadata": {},
   "outputs": [],
   "source": [
    "noun_word = words.Word(type=r.WORD_TYPE.NOUN,\n",
    "                        forms=generate_forms('влага'),\n",
    "                        properties=words.Properties(r.ANIMALITY.ANIMATE, r.GENDER.FEMININE))\n",
    "test_dictionary = dictionary.Dictionary(words=[noun_word])\n",
    "template = templates.Template()\n",
    "otn = words.WordForm(words.Word(type=r.WORD_TYPE.ADJECTIVE,\n",
    "                                forms=generate_forms('относительная')[5:] + [u''] * (5+len(data.WORDS_CACHES[r.WORD_TYPE.ADJECTIVE]) - len(generate_forms('относительная'))),\n",
    "                                 properties=words.Properties(r.ANIMALITY.ANIMATE, r.GENDER.FEMININE, r.CASE.NOMINATIVE)))\n",
    "vozd = words.WordForm(words.Word(type=r.WORD_TYPE.NOUN,\n",
    "                                 forms=generate_forms('воздух')[:18] ,\n",
    "                                 properties=words.Properties(r.ANIMALITY.INANIMATE, r.GENDER.MASCULINE)))\n",
    "percent = words.WordForm(words.Word(type=r.WORD_TYPE.NOUN,\n",
    "                                 forms=generate_forms('процент')[:18] ,\n",
    "                                 properties=words.Properties(r.ANIMALITY.INANIMATE, r.GENDER.MASCULINE)))\n",
    "\n",
    "template.parse(u' [otn|им|жр] [влага] [vozd|рд] [coins] [percent|coins|вн].', externals=( 'otn', 'vozd', 'percent', 'coins'))\n",
    "\n",
    "result1= template.substitute(externals={'otn': otn,\n",
    "                                        'vozd' : vozd,\n",
    "                                        'percent': percent,\n",
    "                                        'coins': constructors.construct_integer(int(humidity))},\n",
    "                             dictionary=test_dictionary)"
   ]
  },
  {
   "cell_type": "code",
   "execution_count": 487,
   "metadata": {},
   "outputs": [
    {
     "data": {
      "text/plain": [
       "' относительная влага воздуха 90 процентов.'"
      ]
     },
     "execution_count": 487,
     "metadata": {},
     "output_type": "execute_result"
    }
   ],
   "source": [
    "result1"
   ]
  },
  {
   "cell_type": "code",
   "execution_count": 501,
   "metadata": {},
   "outputs": [
    {
     "name": "stdout",
     "output_type": "stream",
     "text": [
      "температура воздуха сегодня + 1 градус.\n",
      " относительная влага воздуха 90 процентов.\n",
      "Ветер юго-восточный , 6 метров в секунду .\n",
      "атмосферное давление 747 миллиметров ртутного столба .\n"
     ]
    }
   ],
   "source": [
    "print(result)\n",
    "print(result1)\n",
    "print('Ветер', veter(direction_wind),',', int(wind_speed), metr.make_agree_with_number(int(wind_speed)).word ,'в', sec.inflect({'accs'}).word ,'.')\n",
    "print(atm.inflect({'nomn'}).word, pr.inflect({'nomn'}).word,int(pres), mm.make_agree_with_number(int(pres)).word, rt.inflect({'gent'}).word, st.inflect({'gent'}).word, '.' )"
   ]
  },
  {
   "cell_type": "code",
   "execution_count": null,
   "metadata": {
    "collapsed": true
   },
   "outputs": [],
   "source": []
  }
 ],
 "metadata": {
  "kernelspec": {
   "display_name": "Python 3",
   "language": "python",
   "name": "python3"
  },
  "language_info": {
   "codemirror_mode": {
    "name": "ipython",
    "version": 3
   },
   "file_extension": ".py",
   "mimetype": "text/x-python",
   "name": "python",
   "nbconvert_exporter": "python",
   "pygments_lexer": "ipython3",
   "version": "3.6.3"
  }
 },
 "nbformat": 4,
 "nbformat_minor": 2
}
